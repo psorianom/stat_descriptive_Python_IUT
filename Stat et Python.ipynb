{
 "cells": [
  {
   "cell_type": "markdown",
   "metadata": {
    "slideshow": {
     "slide_type": "slide"
    }
   },
   "source": [
    "# Introduction pratique aux statistiques descriptives avec Python\n",
    "Pavel SORIANO\n",
    "\n",
    "ATER IUT Lumière Lyon 2 \\\\ Doctorant Laboratoire ERIC\n",
    "\n"
   ]
  },
  {
   "cell_type": "markdown",
   "metadata": {
    "slideshow": {
     "slide_type": "slide"
    }
   },
   "source": [
    "## Pourquoi Python ? \n",
    "Python est un langage de programmation, tout comme C, Fortran, BASIC, PHP, etc. \n",
    "\n",
    "* Un langage versatil: sites web, GUI, mantenir des servers, analyse de donnees, etc.\n",
    "\n",
    "* Très lisible avec une syntaxe claire: parfsait pour l'enseignement\n",
    "* Une grande variété de paquets de haute qualité : des frameworks Web à l'informatique scientifique.\n",
    "* Une langue interprétée (par opposition à compilée). En outre, Python peut être utilisé de manière interactive: de nombreux interpréteurs Python sont disponibles, à partir desquels des commandes et des scripts peuvent être exécutés.\n",
    "*  Multi-plateforme:  Windows, Linux / Unix, MacOS X\n"
   ]
  },
  {
   "cell_type": "markdown",
   "metadata": {
    "slideshow": {
     "slide_type": "slide"
    }
   },
   "source": [
    "## L'ecosysteme statistique Python\n",
    "__Bibliothèques numériques de base__\n",
    "* Numpy: calcul numérique avec des arrays (tableaux) numériques, et des routines pour les manipuler [http://www.numpy.org/]\n",
    "* Scipy: Routines numériques de haut niveau. Optimisation, régression, interpolation, etc.\n",
    "[http://www.scipy.org/]\n",
    "* Pandas: Manipulation et analyse des données. On peut l'imaginer comme une librairie fournissant toutes les fonctions d'un tableur Excel. [http://pandas.pydata.org/]\n",
    "* Matplotlib: Visualisation 2-D, 3-D [http://matplotlib.org/]"
   ]
  },
  {
   "cell_type": "markdown",
   "metadata": {
    "slideshow": {
     "slide_type": "slide"
    }
   },
   "source": [
    "## Plan\n",
    "1. Le bases de Python\n",
    "2. Numpy\n",
    "3. Pandas"
   ]
  },
  {
   "cell_type": "markdown",
   "metadata": {
    "collapsed": true,
    "slideshow": {
     "slide_type": "slide"
    }
   },
   "source": [
    "## Travaux pratiques\n",
    "* Visitez le site suivant pour avoir une ligne de commandes Python:\n",
    "    * https://github.com/psorianom/stat_descriptive_Python_IUT\n",
    "* Nous allons taper du code Python ensemble.\n"
   ]
  },
  {
   "cell_type": "markdown",
   "metadata": {
    "slideshow": {
     "slide_type": "slide"
    }
   },
   "source": [
    "## Les bases de Python\n",
    "1. Calculatrice\n",
    "2. Conteneurs : la liste, le dictionnaire\n",
    "3. Control de flux\n",
    "4. Definition de functions"
   ]
  },
  {
   "cell_type": "markdown",
   "metadata": {
    "slideshow": {
     "slide_type": "slide"
    }
   },
   "source": [
    "## Numpy\n",
    "1. L'array\n",
    "2. Creation des arrays d'une dimension\n",
    "3. Quelques tableaux communs\n",
    "4. Indexation / extraction de sous-matrice \n",
    "5. Opérations numériques sur des tableaux\n",
    "6. Réductions de base\n",
    "7. Finalement! Statistique descriptive"
   ]
  },
  {
   "cell_type": "markdown",
   "metadata": {
    "slideshow": {
     "slide_type": "slide"
    }
   },
   "source": [
    "## Pandas\n",
    "* Statistique descriptive avec Pandas"
   ]
  },
  {
   "cell_type": "markdown",
   "metadata": {
    "slideshow": {
     "slide_type": "slide"
    }
   },
   "source": [
    "## Références \n",
    "### Books\n",
    "1. Think Stats \n",
    "2. Python Data Analysis \n",
    "3. Guide to Numpy\n",
    "4. Python Data Science Handbook\n",
    "5. Introduction to Machine Learning\n",
    "### Websites\n",
    "1. http://www.scipy-lectures.org/\n",
    "2. https://swcarpentry.github.io/python-novice-inflammation/\n",
    "3. http://www.xavierdupre.fr/app/ensae_teaching_cs/helpsphinx/index.html\n",
    "\n"
   ]
  }
 ],
 "metadata": {
  "celltoolbar": "Slideshow",
  "kernelspec": {
   "display_name": "Python 2",
   "language": "python",
   "name": "python2"
  },
  "language_info": {
   "codemirror_mode": {
    "name": "ipython",
    "version": 2
   },
   "file_extension": ".py",
   "mimetype": "text/x-python",
   "name": "python",
   "nbconvert_exporter": "python",
   "pygments_lexer": "ipython2",
   "version": "2.7.11"
  }
 },
 "nbformat": 4,
 "nbformat_minor": 0
}
